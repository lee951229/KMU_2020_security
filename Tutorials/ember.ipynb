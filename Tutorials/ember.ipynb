{
  "nbformat": 4,
  "nbformat_minor": 0,
  "metadata": {
    "colab": {
      "name": "ember",
      "provenance": [],
      "collapsed_sections": []
    },
    "kernelspec": {
      "name": "python3",
      "display_name": "Python 3"
    }
  },
  "cells": [
    {
      "cell_type": "markdown",
      "metadata": {
        "id": "gT9A9l3CkOXK"
      },
      "source": [
        "### 필요한 라이브러리 설치"
      ]
    },
    {
      "cell_type": "code",
      "metadata": {
        "id": "v_7LMG33kQXf",
        "colab": {
          "base_uri": "https://localhost:8080/"
        },
        "outputId": "9c04abc1-ba57-493b-e7fd-96cb95257593"
      },
      "source": [
        "!pip install lief\n",
        "!pip install numpy\n",
        "!pip install sklearn\n",
        "!pip install tqdm\n",
        "!pip install graphviz\n",
        "!pip install lightgbm"
      ],
      "execution_count": null,
      "outputs": [
        {
          "output_type": "stream",
          "text": [
            "Collecting lief\n",
            "\u001b[?25l  Downloading https://files.pythonhosted.org/packages/f7/38/e6bf942cf2ee073bf81fa3324bca35409175312b7b72d71919c8fc8e547b/lief-0.10.1-cp36-cp36m-manylinux1_x86_64.whl (3.5MB)\n",
            "\u001b[K     |████████████████████████████████| 3.5MB 5.9MB/s \n",
            "\u001b[?25hInstalling collected packages: lief\n",
            "Successfully installed lief-0.10.1\n",
            "Requirement already satisfied: numpy in /usr/local/lib/python3.6/dist-packages (1.18.5)\n",
            "Requirement already satisfied: sklearn in /usr/local/lib/python3.6/dist-packages (0.0)\n",
            "Requirement already satisfied: scikit-learn in /usr/local/lib/python3.6/dist-packages (from sklearn) (0.22.2.post1)\n",
            "Requirement already satisfied: joblib>=0.11 in /usr/local/lib/python3.6/dist-packages (from scikit-learn->sklearn) (0.17.0)\n",
            "Requirement already satisfied: numpy>=1.11.0 in /usr/local/lib/python3.6/dist-packages (from scikit-learn->sklearn) (1.18.5)\n",
            "Requirement already satisfied: scipy>=0.17.0 in /usr/local/lib/python3.6/dist-packages (from scikit-learn->sklearn) (1.4.1)\n",
            "Requirement already satisfied: tqdm in /usr/local/lib/python3.6/dist-packages (4.41.1)\n",
            "Requirement already satisfied: graphviz in /usr/local/lib/python3.6/dist-packages (0.10.1)\n",
            "Requirement already satisfied: lightgbm in /usr/local/lib/python3.6/dist-packages (2.2.3)\n",
            "Requirement already satisfied: scipy in /usr/local/lib/python3.6/dist-packages (from lightgbm) (1.4.1)\n",
            "Requirement already satisfied: numpy in /usr/local/lib/python3.6/dist-packages (from lightgbm) (1.18.5)\n",
            "Requirement already satisfied: scikit-learn in /usr/local/lib/python3.6/dist-packages (from lightgbm) (0.22.2.post1)\n",
            "Requirement already satisfied: joblib>=0.11 in /usr/local/lib/python3.6/dist-packages (from scikit-learn->lightgbm) (0.17.0)\n"
          ],
          "name": "stdout"
        }
      ]
    },
    {
      "cell_type": "markdown",
      "metadata": {
        "id": "x8Y7LPE9kSRh"
      },
      "source": [
        "### 구글 드라이브 연동"
      ]
    },
    {
      "cell_type": "code",
      "metadata": {
        "id": "agWjirh2kRrv",
        "colab": {
          "base_uri": "https://localhost:8080/"
        },
        "outputId": "fb32a99a-2566-4a28-f463-2280d9b75b10"
      },
      "source": [
        "from google.colab import drive \n",
        "drive_path = '/content/gdrive/'\n",
        "drive.mount(drive_path)\n",
        "\n",
        "import sys\n",
        "sys.path.append(drive_path + \"My Drive\")"
      ],
      "execution_count": null,
      "outputs": [
        {
          "output_type": "stream",
          "text": [
            "Mounted at /content/gdrive/\n"
          ],
          "name": "stdout"
        }
      ]
    },
    {
      "cell_type": "markdown",
      "metadata": {
        "id": "QWK5Ke5KBV2z"
      },
      "source": [
        "## 피처 추출 코드\n",
        "- https://bit.ly/3gWqxuj\n",
        "\n",
        "## 학습 데이터\n",
        "- https://bit.ly/2FkqtXn\n",
        "\n",
        "## 학습 라벨\n",
        "- https://bit.ly/3amlIYV\n",
        "\n",
        "## 검증 데이터\n",
        "- https://bit.ly/2PMXPQO\n",
        "\n",
        "## 검증 라벨\n",
        "- https://bit.ly/2XYGbOe\n"
      ]
    },
    {
      "cell_type": "code",
      "metadata": {
        "id": "T8XTgOM6ko15"
      },
      "source": [
        "import glob\n",
        "import os\n",
        "import pickle\n",
        "import ember\n",
        "\n",
        "import pandas as pd\n",
        "import numpy as np\n",
        "\n",
        "from pprint import pprint\n",
        "from tqdm.notebook import tqdm\n",
        "\n",
        "from sklearn import tree\n",
        "\n",
        "from sklearn.metrics import accuracy_score\n",
        "from sklearn.metrics import precision_score\n",
        "from sklearn.metrics import recall_score\n",
        "from sklearn.metrics import f1_score\n",
        "from sklearn.metrics import plot_confusion_matrix\n",
        "from sklearn.metrics import confusion_matrix\n",
        "\n",
        "from lightgbm import LGBMClassifier\n",
        "from sklearn.svm import SVC\n",
        "from sklearn.tree import DecisionTreeClassifier\n",
        "from sklearn.ensemble import RandomForestClassifier\n",
        "from sklearn.ensemble import AdaBoostClassifier\n",
        "from sklearn.neighbors import KNeighborsClassifier\n",
        "from sklearn.linear_model import LogisticRegression\n",
        "from sklearn.neural_network import MLPClassifier\n",
        "\n",
        "from sklearn.model_selection import GridSearchCV\n",
        "\n",
        "import matplotlib.pyplot as plt\n",
        "\n",
        "%matplotlib inline"
      ],
      "execution_count": null,
      "outputs": []
    },
    {
      "cell_type": "markdown",
      "metadata": {
        "id": "JdVsSszOk8cu"
      },
      "source": [
        "### EMBER 코드로 피처 추출"
      ]
    },
    {
      "cell_type": "code",
      "metadata": {
        "id": "KqJkWsB5V_Bc"
      },
      "source": [
        "def read_bytes(path):\n",
        "    with open(path, \"rb\") as f:\n",
        "        return f.read()\n"
      ],
      "execution_count": null,
      "outputs": []
    },
    {
      "cell_type": "code",
      "metadata": {
        "id": "nGvikz9Jk76o"
      },
      "source": [
        "example_path = os.path.join(drive_path, \"My Drive\", \"sample.exe\")\n",
        "\n",
        "raw = read_bytes(example_path)\n",
        "generator = ember.PEFeatureExtractor()\n",
        "\n",
        "generator.raw_features(raw)"
      ],
      "execution_count": null,
      "outputs": []
    },
    {
      "cell_type": "code",
      "metadata": {
        "id": "hP9AJ9Z0le5v",
        "colab": {
          "base_uri": "https://localhost:8080/",
          "height": 54
        },
        "outputId": "343125c2-93c6-42d8-9c90-1b55f223b939"
      },
      "source": [
        "generator.feature_vector(raw)"
      ],
      "execution_count": null,
      "outputs": [
        {
          "output_type": "execute_result",
          "data": {
            "text/plain": [
              "array([1.8832208e-01, 2.5478901e-02, 1.7842956e-02, ..., 1.6426400e+05,\n",
              "       0.0000000e+00, 0.0000000e+00], dtype=float32)"
            ]
          },
          "metadata": {
            "tags": []
          },
          "execution_count": 8
        }
      ]
    },
    {
      "cell_type": "code",
      "metadata": {
        "id": "PEsrTqmSk5DM"
      },
      "source": [
        "def read_pickle(path):\n",
        "    with open(path, \"rb\") as f:\n",
        "        return pickle.load(f)\n"
      ],
      "execution_count": null,
      "outputs": []
    },
    {
      "cell_type": "markdown",
      "metadata": {
        "id": "CaCR9zCulBTK"
      },
      "source": [
        "### 데이터 로드"
      ]
    },
    {
      "cell_type": "code",
      "metadata": {
        "id": "bhscfuHwlAot",
        "colab": {
          "base_uri": "https://localhost:8080/"
        },
        "outputId": "670ed2d4-e66e-4408-9abb-b7df752a585e"
      },
      "source": [
        "X_train = read_pickle(os.path.join(drive_path, \"My Drive\", \"ember_train_features.pkl\"))\n",
        "y_train = read_pickle(os.path.join(drive_path, \"My Drive\", \"ember_train_labels.pkl\"))\n",
        "\n",
        "X_test = read_pickle(os.path.join(drive_path, \"My Drive\", \"ember_test_features.pkl\"))\n",
        "y_test = read_pickle(os.path.join(drive_path, \"My Drive\", \"ember_test_labels.pkl\"))\n",
        "\n",
        "print(X_train.shape)\n",
        "print(y_train.shape)\n",
        "print(X_test.shape)\n",
        "print(y_test.shape)"
      ],
      "execution_count": null,
      "outputs": [
        {
          "output_type": "stream",
          "text": [
            "(20000, 2381)\n",
            "(20000,)\n",
            "(20000, 2381)\n",
            "(20000,)\n"
          ],
          "name": "stdout"
        }
      ]
    },
    {
      "cell_type": "markdown",
      "metadata": {
        "id": "k6LTDbI_lDaC"
      },
      "source": [
        "### 학습 및 테스트"
      ]
    },
    {
      "cell_type": "code",
      "metadata": {
        "id": "QPFBhw9xlE-E",
        "colab": {
          "base_uri": "https://localhost:8080/"
        },
        "outputId": "6fe04afa-76f0-4de7-fa44-c3cff89028d4"
      },
      "source": [
        "def load_model(**kwargs):\n",
        "    if kwargs[\"model\"] == \"rf\":\n",
        "        return RandomForestClassifier(random_state=kwargs[\"random_state\"], n_jobs=4)\n",
        "    elif kwargs[\"model\"] == \"dt\":\n",
        "        return DecisionTreeClassifier(random_state=kwargs[\"random_state\"])\n",
        "    elif kwargs[\"model\"] == \"lgb\":\n",
        "        return LGBMClassifier(random_state=kwargs[\"random_state\"])\n",
        "    elif kwargs[\"model\"] == \"svm\":\n",
        "        return SVC(random_state=kwargs[\"random_state\"])\n",
        "    elif kwargs[\"model\"] == \"lr\":\n",
        "        return LogisticRegression(random_state=kwargs[\"random_state\"], n_jobs=-1)\n",
        "    elif kwargs[\"model\"] == \"knn\":\n",
        "        return KNeighborsClassifier(n_jobs=-1)\n",
        "    elif kwargs[\"model\"] == \"adaboost\":\n",
        "        return AdaBoostClassifier(random_state=kwargs[\"random_state\"])\n",
        "    elif kwargs[\"model\"] == \"mlp\":\n",
        "        return MLPClassifier(random_state=kwargs[\"random_state\"])\n",
        "    else:\n",
        "        print(\"Unsupported Algorithm\")\n",
        "        return None\n",
        "\n",
        "SEED = 41\n",
        "clf = load_model(model=\"lgb\", random_state=SEED)\n",
        "clf.fit(X_train, y_train)\n",
        "\n",
        "predict = clf.predict(X_test)\n",
        "\n",
        "print(\"accuracy\", clf.score(X_test, y_test))\n",
        "print(\"precision\", precision_score(y_test, predict))\n",
        "print(\"recall\", recall_score(y_test, predict))\n",
        "print(\"f1-score\", f1_score(y_test, predict))"
      ],
      "execution_count": null,
      "outputs": [
        {
          "output_type": "stream",
          "text": [
            "accuracy 0.95505\n",
            "precision 0.9739190591490834\n",
            "recall 0.9642465753424657\n",
            "f1-score 0.9690586818103596\n"
          ],
          "name": "stdout"
        }
      ]
    },
    {
      "cell_type": "markdown",
      "metadata": {
        "id": "Cmj-ZhP7a6Es"
      },
      "source": [
        "### 특징 중요도 그래프"
      ]
    },
    {
      "cell_type": "code",
      "metadata": {
        "id": "vR7oDkAGgTVE",
        "colab": {
          "base_uri": "https://localhost:8080/",
          "height": 812
        },
        "outputId": "7525035f-479e-43a5-caf5-600f6e17a005"
      },
      "source": [
        "section, dll, function, eat = 50, 256, 1024, 128    \n",
        "\n",
        "header = [f\"Byte Histogram {i}\" for i in range(256)] +\\\n",
        "[f\"Byte Entropy Histogram {i}\" for i in range(256)] +\\\n",
        "[f\"String Info {i}\" for i in range(104)]+\\\n",
        "[f\"General File Info {i}\" for i in range(10)]+\\\n",
        "[f\"Header Info {i}\" for i in range(62)]+\\\n",
        "[f\"Section(General) {i}\" for i in range(5)]+\\\n",
        "[f\"Section(Size) {i}\" for i in range(section)]+\\\n",
        "[f\"Section(Entropy) {i}\" for i in range(section)]+\\\n",
        "[f\"Section(Virtual Size) {i}\" for i in range(section)]+\\\n",
        "[f\"Section(Entry) {i}\" for i in range(section)]+\\\n",
        "[f\"Section(Characteristic) {i}\" for i in range(section)]+\\\n",
        "[f\"Imports(DLL) {i}\" for i in range(dll)]+\\\n",
        "[f\"Imports(Function) {i}\" for i in range(function)]+\\\n",
        "[f\"Exports(Function) {i}\" for i in range(eat)]+\\\n",
        "[f\"Data Directory {i}\" for i in range(30)]\n",
        "\n",
        "\n",
        "\n",
        "plt.figure(figsize=(10, 10))\n",
        "feat_importances = pd.Series(clf.feature_importances_, index=header)\n",
        "feat_importances.nlargest(24).plot(kind='bar')\n",
        "plt.ylabel(\"score\", fontsize=16)\n",
        "plt.yticks(fontsize=16)\n",
        "plt.xticks(fontsize=16)\n",
        "\n",
        "\n"
      ],
      "execution_count": null,
      "outputs": [
        {
          "output_type": "execute_result",
          "data": {
            "text/plain": [
              "(array([ 0,  1,  2,  3,  4,  5,  6,  7,  8,  9, 10, 11, 12, 13, 14, 15, 16,\n",
              "        17, 18, 19, 20, 21, 22, 23]),\n",
              " <a list of 24 Text major ticklabel objects>)"
            ]
          },
          "metadata": {
            "tags": []
          },
          "execution_count": 10
        },
        {
          "output_type": "display_data",
          "data": {
            "image/png": "[encoded data removed]",
            "text/plain": [
              "<Figure size 720x720 with 1 Axes>"
            ]
          },
          "metadata": {
            "tags": [],
            "needs_background": "light"
          }
        }
      ]
    },
    {
      "cell_type": "markdown",
      "metadata": {
        "id": "HMIwtiPTa8w_"
      },
      "source": [
        "### 판별 분기"
      ]
    },
    {
      "cell_type": "code",
      "metadata": {
        "id": "HEfmK9pAgTb3"
      },
      "source": [
        "\n",
        "for dtree in clf.estimators_[:1]:\n",
        "    tree.export_graphviz(dtree\n",
        "                            , max_depth=2\n",
        "                            , out_file='tree.dot'\n",
        "                            , feature_names=header\n",
        "                            , class_names=['benign', 'mal']\n",
        "                            , filled=True\n",
        "                            , rounded=True\n",
        "                            , special_characters=True)\n",
        "\n",
        "    # Convert to png using system command (requires Graphviz)\n",
        "    os.system('dot ' + '-Tpng ' + 'tree.dot ' + '-o ' + 'tree.png ')"
      ],
      "execution_count": null,
      "outputs": []
    },
    {
      "cell_type": "markdown",
      "metadata": {
        "id": "p3qcUV5SbBrw"
      },
      "source": [
        "### 혼동 행렬"
      ]
    },
    {
      "cell_type": "code",
      "metadata": {
        "id": "G6eCoTW_xLyj",
        "colab": {
          "base_uri": "https://localhost:8080/",
          "height": 279
        },
        "outputId": "0693019b-8cd0-472a-cbf3-4e3afc414e34"
      },
      "source": [
        "disp = plot_confusion_matrix(clf, X_test, y_test, normalize=\"true\", cmap=plt.cm.Blues)\n",
        "disp.figure_.savefig(\"실험3 Ember\")\n"
      ],
      "execution_count": null,
      "outputs": [
        {
          "output_type": "display_data",
          "data": {
            "image/png": "[encoded data removed]",
            "text/plain": [
              "<Figure size 432x288 with 2 Axes>"
            ]
          },
          "metadata": {
            "tags": [],
            "needs_background": "light"
          }
        }
      ]
    },
    {
      "cell_type": "markdown",
      "metadata": {
        "id": "H3AFwcvNhm8v"
      },
      "source": [
        "### 최적 파라미터 탐색 (Grid Search)"
      ]
    },
    {
      "cell_type": "code",
      "metadata": {
        "id": "8ALIpsrCATRX",
        "colab": {
          "base_uri": "https://localhost:8080/",
          "height": 381
        },
        "outputId": "5cb3a143-d982-4b48-cb8c-753db59c6689"
      },
      "source": [
        "print(\"현재 랜덤포레스트 파라미터\")\n",
        "pprint(clf.get_params())"
      ],
      "execution_count": null,
      "outputs": [
        {
          "output_type": "stream",
          "text": [
            "현재 랜덤포레스트 파라미터\n",
            "{'bootstrap': True,\n",
            " 'ccp_alpha': 0.0,\n",
            " 'class_weight': None,\n",
            " 'criterion': 'gini',\n",
            " 'max_depth': None,\n",
            " 'max_features': 'auto',\n",
            " 'max_leaf_nodes': None,\n",
            " 'max_samples': None,\n",
            " 'min_impurity_decrease': 0.0,\n",
            " 'min_impurity_split': None,\n",
            " 'min_samples_leaf': 1,\n",
            " 'min_samples_split': 2,\n",
            " 'min_weight_fraction_leaf': 0.0,\n",
            " 'n_estimators': 100,\n",
            " 'n_jobs': 4,\n",
            " 'oob_score': False,\n",
            " 'random_state': 41,\n",
            " 'verbose': 0,\n",
            " 'warm_start': False}\n"
          ],
          "name": "stdout"
        }
      ]
    },
    {
      "cell_type": "code",
      "metadata": {
        "id": "GlnnW1DiHufV"
      },
      "source": [
        "param_grid = {\n",
        "    'bootstrap': [True],\n",
        "    'max_depth': [80, 90, 100, 110, None],\n",
        "    'max_features': [2, 3],\n",
        "    'min_samples_leaf': [3, 4, 5],\n",
        "    'min_samples_split': [8, 10, 12],\n",
        "    'n_estimators': [100, 128, 256, 1024]\n",
        "}\n",
        "grid_search = GridSearchCV(estimator=clf, param_grid=param_grid, \n",
        "                          cv=5, n_jobs=-1, verbose=2)"
      ],
      "execution_count": null,
      "outputs": []
    },
    {
      "cell_type": "code",
      "metadata": {
        "id": "MAaBWTv4Hwal",
        "colab": {
          "base_uri": "https://localhost:8080/",
          "height": 599
        },
        "outputId": "2215d1e3-c11a-4f50-b543-3b5f7471a4f6"
      },
      "source": [
        "grid_search.fit(X_train, y_train)"
      ],
      "execution_count": null,
      "outputs": [
        {
          "output_type": "stream",
          "text": [
            "Fitting 5 folds for each of 360 candidates, totalling 1800 fits\n"
          ],
          "name": "stdout"
        },
        {
          "output_type": "stream",
          "text": [
            "[Parallel(n_jobs=-1)]: Using backend LokyBackend with 2 concurrent workers.\n",
            "[Parallel(n_jobs=-1)]: Done  37 tasks      | elapsed:  4.9min\n",
            "[Parallel(n_jobs=-1)]: Done 158 tasks      | elapsed: 22.8min\n",
            "[Parallel(n_jobs=-1)]: Done 361 tasks      | elapsed: 60.9min\n",
            "[Parallel(n_jobs=-1)]: Done 644 tasks      | elapsed: 107.3min\n",
            "[Parallel(n_jobs=-1)]: Done 1009 tasks      | elapsed: 169.7min\n",
            "[Parallel(n_jobs=-1)]: Done 1454 tasks      | elapsed: 246.8min\n",
            "[Parallel(n_jobs=-1)]: Done 1800 out of 1800 | elapsed: 307.2min finished\n"
          ],
          "name": "stderr"
        },
        {
          "output_type": "execute_result",
          "data": {
            "text/plain": [
              "GridSearchCV(cv=5, error_score=nan,\n",
              "             estimator=RandomForestClassifier(bootstrap=True, ccp_alpha=0.0,\n",
              "                                              class_weight=None,\n",
              "                                              criterion='gini', max_depth=None,\n",
              "                                              max_features='auto',\n",
              "                                              max_leaf_nodes=None,\n",
              "                                              max_samples=None,\n",
              "                                              min_impurity_decrease=0.0,\n",
              "                                              min_impurity_split=None,\n",
              "                                              min_samples_leaf=1,\n",
              "                                              min_samples_split=2,\n",
              "                                              min_weight_fraction_leaf=0.0,\n",
              "                                              n_estimators=100, n_jobs=4,\n",
              "                                              oob_score=False, random_state=41,\n",
              "                                              verbose=0, warm_start=False),\n",
              "             iid='deprecated', n_jobs=-1,\n",
              "             param_grid={'bootstrap': [True],\n",
              "                         'max_depth': [80, 90, 100, 110, None],\n",
              "                         'max_features': [2, 3], 'min_samples_leaf': [3, 4, 5],\n",
              "                         'min_samples_split': [8, 10, 12],\n",
              "                         'n_estimators': [100, 128, 256, 1024]},\n",
              "             pre_dispatch='2*n_jobs', refit=True, return_train_score=False,\n",
              "             scoring=None, verbose=2)"
            ]
          },
          "metadata": {
            "tags": []
          },
          "execution_count": 14
        }
      ]
    },
    {
      "cell_type": "code",
      "metadata": {
        "id": "qXJR_6gRHx58",
        "colab": {
          "base_uri": "https://localhost:8080/",
          "height": 126
        },
        "outputId": "05b6b6cc-875f-4691-9aae-7bfcc9d30b7a"
      },
      "source": [
        "pprint(grid_search.best_params_)\n",
        "\n",
        "best_grid = grid_search.best_estimator_"
      ],
      "execution_count": null,
      "outputs": [
        {
          "output_type": "stream",
          "text": [
            "{'bootstrap': True,\n",
            " 'max_depth': 80,\n",
            " 'max_features': 3,\n",
            " 'min_samples_leaf': 3,\n",
            " 'min_samples_split': 8,\n",
            " 'n_estimators': 128}\n"
          ],
          "name": "stdout"
        }
      ]
    },
    {
      "cell_type": "code",
      "metadata": {
        "id": "pc5BXmP_I1wu",
        "colab": {
          "base_uri": "https://localhost:8080/",
          "height": 163
        },
        "outputId": "6acbe594-7a14-473f-ad2f-bf17d5584ea1"
      },
      "source": [
        "clf.set_params(**grid_search.best_params_)"
      ],
      "execution_count": null,
      "outputs": [
        {
          "output_type": "execute_result",
          "data": {
            "text/plain": [
              "RandomForestClassifier(bootstrap=True, ccp_alpha=0.0, class_weight=None,\n",
              "                       criterion='gini', max_depth=80, max_features=3,\n",
              "                       max_leaf_nodes=None, max_samples=None,\n",
              "                       min_impurity_decrease=0.0, min_impurity_split=None,\n",
              "                       min_samples_leaf=3, min_samples_split=8,\n",
              "                       min_weight_fraction_leaf=0.0, n_estimators=128, n_jobs=4,\n",
              "                       oob_score=False, random_state=41, verbose=0,\n",
              "                       warm_start=False)"
            ]
          },
          "metadata": {
            "tags": []
          },
          "execution_count": 17
        }
      ]
    },
    {
      "cell_type": "code",
      "metadata": {
        "id": "8k2NHfGRI2Hu",
        "colab": {
          "base_uri": "https://localhost:8080/",
          "height": 35
        },
        "outputId": "828bd733-8ba6-4fce-ec38-d5769a177503"
      },
      "source": [
        "best_grid.score(X_test, y_test)"
      ],
      "execution_count": null,
      "outputs": [
        {
          "output_type": "execute_result",
          "data": {
            "text/plain": [
              "0.9311"
            ]
          },
          "metadata": {
            "tags": []
          },
          "execution_count": 18
        }
      ]
    },
    {
      "cell_type": "code",
      "metadata": {
        "id": "VcT1dLefhf7m"
      },
      "source": [
        ""
      ],
      "execution_count": null,
      "outputs": []
    }
  ]
}